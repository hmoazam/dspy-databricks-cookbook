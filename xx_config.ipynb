{
 "cells": [
  {
   "cell_type": "code",
   "execution_count": 0,
   "metadata": {
    "application/vnd.databricks.v1+cell": {
     "cellMetadata": {
      "byteLimit": 2048000,
      "rowLimit": 10000
     },
     "inputWidgets": {},
     "nuid": "e04dd876-1b97-445e-bde1-c66aade940b5",
     "showTitle": false,
     "tableResultSettingsMap": {},
     "title": ""
    }
   },
   "outputs": [],
   "source": [
    "dbutils.widgets.removeAll()\n",
    "# dbutils.widgets.dropdown(\"model_name\",\"main.luis_moros.simple_dspy_rag\", [\"main.luis_moros.simple_dspy_rag\", \"main.kobie_crawford.simple_dspy_rag\"])\n",
    "dbutils.widgets.text(\"agent_name\", \"\")\n",
    "dbutils.widgets.text(\"catalog\", \"\")\n",
    "dbutils.widgets.text(\"schema\", \"\")\n",
    "dbutils.widgets.text(\"UC model name\", \"\")\n",
    "dbutils.widgets.text(\"vector search endpoint\", \"\")\n",
    "dbutils.widgets.text(\"vector search index\", \"\")\n",
    "dbutils.widgets.text(\"chat model name\", \"\")\n",
    "dbutils.widgets.text(\"embedding model name\", \"\")"
   ]
  },
  {
   "cell_type": "markdown",
   "metadata": {
    "application/vnd.databricks.v1+cell": {
     "cellMetadata": {},
     "inputWidgets": {},
     "nuid": "971eef5e-8f7a-4bf8-b254-9b0b4d62e330",
     "showTitle": false,
     "tableResultSettingsMap": {},
     "title": ""
    }
   },
   "source": [
    "# Global configuration\n",
    "\n",
    "This notebook is meant to be changed once.\n",
    "\n",
    "At a high-level it defines the Unity Catalog locations where the agent, and associated resources, will be stored. Ideally you shouldn't have to change the values in this notebook once you've started building your agent."
   ]
  },
  {
   "cell_type": "code",
   "execution_count": 0,
   "metadata": {
    "application/vnd.databricks.v1+cell": {
     "cellMetadata": {},
     "inputWidgets": {},
     "nuid": "0a0539c8-9803-4442-81d5-dddc3d8c8292",
     "showTitle": false,
     "tableResultSettingsMap": {},
     "title": ""
    }
   },
   "outputs": [],
   "source": [
    "user_email = spark.sql(\"SELECT current_user() as username\").collect()[0].username\n",
    "user_name = user_email.split(\"@\")[0].replace(\".\", \"\").lower()[:35]"
   ]
  },
  {
   "cell_type": "code",
   "execution_count": 0,
   "metadata": {
    "application/vnd.databricks.v1+cell": {
     "cellMetadata": {},
     "inputWidgets": {},
     "nuid": "07cb6628-8dbe-4455-807f-8119e2a54b5f",
     "showTitle": false,
     "tableResultSettingsMap": {},
     "title": ""
    }
   },
   "outputs": [],
   "source": [
    "# The name of the Agent.  This is used to name the agent's UC model and prepended to the output Delta Tables + Vector Indexes\n",
    "AGENT_NAME = dbutils.widgets.get(\"agent_name\")\n",
    "\n",
    "# UC Catalog & Schema where outputs tables/indexes are saved\n",
    "# By default, will use the current user name to create a unique UC catalog/schema & vector search endpoint\n",
    "# If this catalog/schema does not exist, you need create catalog/schema permissions.\n",
    "UC_CATALOG = dbutils.widgets.get(\"catalog\")\n",
    "UC_SCHEMA = f\"cookbook\" # replace with CAVU schema\n",
    "\n",
    "## UC Model name where the Agent's model is logged\n",
    "UC_MODEL_NAME = f\"{UC_CATALOG}.{UC_SCHEMA}.{AGENT_NAME}\"\n",
    "\n",
    "## Vector search endpoint name\n",
    "VECTOR_SEARCH_ENDPOINT_NAME = \"one-env-shared-endpoint-5\"\n",
    "\n",
    "## Embedding model endpoint name\n",
    "EMBEDDING_MODEL_NAME = \"bge_large_hanna_moazam\"\n",
    "\n",
    "## Chat model endpoint name\n",
    "CHAT_MODEL_NAME = \"databricks/neurips_llama_v3_2_3b_provisioned_throughput\""
   ]
  }
 ],
 "metadata": {
  "application/vnd.databricks.v1+notebook": {
   "computePreferences": null,
   "dashboards": [],
   "environmentMetadata": {
    "base_environment": "",
    "environment_version": "2"
   },
   "language": "python",
   "notebookMetadata": {
    "pythonIndentUnit": 2
   },
   "notebookName": "xx_config",
   "widgets": {
    "UC model name": {
     "currentValue": "",
     "nuid": "209aa8b1-7e9d-43eb-a540-16d13ee10532",
     "typedWidgetInfo": {
      "autoCreated": false,
      "defaultValue": "",
      "label": null,
      "name": "UC model name",
      "options": {
       "widgetDisplayType": "Text",
       "validationRegex": null
      },
      "parameterDataType": "String"
     },
     "widgetInfo": {
      "widgetType": "text",
      "defaultValue": "",
      "label": null,
      "name": "UC model name",
      "options": {
       "widgetType": "text",
       "autoCreated": false,
       "validationRegex": null
      }
     }
    },
    "agent_name": {
     "currentValue": "",
     "nuid": "404198aa-50f1-4222-a7f6-6622b2129489",
     "typedWidgetInfo": {
      "autoCreated": false,
      "defaultValue": "",
      "label": null,
      "name": "agent_name",
      "options": {
       "widgetDisplayType": "Text",
       "validationRegex": null
      },
      "parameterDataType": "String"
     },
     "widgetInfo": {
      "widgetType": "text",
      "defaultValue": "",
      "label": null,
      "name": "agent_name",
      "options": {
       "widgetType": "text",
       "autoCreated": null,
       "validationRegex": null
      }
     }
    },
    "catalog": {
     "currentValue": "",
     "nuid": "9e1d9d79-2372-4295-85c0-9666bdfbca1c",
     "typedWidgetInfo": {
      "autoCreated": false,
      "defaultValue": "",
      "label": null,
      "name": "catalog",
      "options": {
       "widgetDisplayType": "Text",
       "validationRegex": null
      },
      "parameterDataType": "String"
     },
     "widgetInfo": {
      "widgetType": "text",
      "defaultValue": "",
      "label": null,
      "name": "catalog",
      "options": {
       "widgetType": "text",
       "autoCreated": false,
       "validationRegex": null
      }
     }
    },
    "chat model name": {
     "currentValue": "",
     "nuid": "df82b450-39c7-40f5-a3e8-1f59786b2df3",
     "typedWidgetInfo": {
      "autoCreated": false,
      "defaultValue": "",
      "label": null,
      "name": "chat model name",
      "options": {
       "widgetDisplayType": "Text",
       "validationRegex": null
      },
      "parameterDataType": "String"
     },
     "widgetInfo": {
      "widgetType": "text",
      "defaultValue": "",
      "label": null,
      "name": "chat model name",
      "options": {
       "widgetType": "text",
       "autoCreated": false,
       "validationRegex": null
      }
     }
    },
    "embedding model name": {
     "currentValue": "",
     "nuid": "08ad191d-122b-4d40-821b-d08db9b9b0ee",
     "typedWidgetInfo": {
      "autoCreated": false,
      "defaultValue": "",
      "label": null,
      "name": "embedding model name",
      "options": {
       "widgetDisplayType": "Text",
       "validationRegex": null
      },
      "parameterDataType": "String"
     },
     "widgetInfo": {
      "widgetType": "text",
      "defaultValue": "",
      "label": null,
      "name": "embedding model name",
      "options": {
       "widgetType": "text",
       "autoCreated": false,
       "validationRegex": null
      }
     }
    },
    "schema": {
     "currentValue": "",
     "nuid": "3236975f-8a0f-469e-9f81-c37a0dd80ba9",
     "typedWidgetInfo": {
      "autoCreated": false,
      "defaultValue": "",
      "label": null,
      "name": "schema",
      "options": {
       "widgetDisplayType": "Text",
       "validationRegex": null
      },
      "parameterDataType": "String"
     },
     "widgetInfo": {
      "widgetType": "text",
      "defaultValue": "",
      "label": null,
      "name": "schema",
      "options": {
       "widgetType": "text",
       "autoCreated": false,
       "validationRegex": null
      }
     }
    },
    "vector search endpoint": {
     "currentValue": "",
     "nuid": "2e1015d2-5685-4324-875f-fcfcc942b1eb",
     "typedWidgetInfo": {
      "autoCreated": false,
      "defaultValue": "",
      "label": null,
      "name": "vector search endpoint",
      "options": {
       "widgetDisplayType": "Text",
       "validationRegex": null
      },
      "parameterDataType": "String"
     },
     "widgetInfo": {
      "widgetType": "text",
      "defaultValue": "",
      "label": null,
      "name": "vector search endpoint",
      "options": {
       "widgetType": "text",
       "autoCreated": false,
       "validationRegex": null
      }
     }
    },
    "vector search index": {
     "currentValue": "",
     "nuid": "4f1a9fe3-17df-4fb7-ad85-d4dcd9126065",
     "typedWidgetInfo": {
      "autoCreated": false,
      "defaultValue": "",
      "label": null,
      "name": "vector search index",
      "options": {
       "widgetDisplayType": "Text",
       "validationRegex": null
      },
      "parameterDataType": "String"
     },
     "widgetInfo": {
      "widgetType": "text",
      "defaultValue": "",
      "label": null,
      "name": "vector search index",
      "options": {
       "widgetType": "text",
       "autoCreated": false,
       "validationRegex": null
      }
     }
    }
   }
  },
  "language_info": {
   "name": "python"
  }
 },
 "nbformat": 4,
 "nbformat_minor": 0
}
