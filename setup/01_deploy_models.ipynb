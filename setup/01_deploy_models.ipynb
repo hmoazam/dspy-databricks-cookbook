{
 "cells": [
  {
   "cell_type": "markdown",
   "metadata": {
    "application/vnd.databricks.v1+cell": {
     "cellMetadata": {},
     "inputWidgets": {},
     "nuid": "926643ad-0a49-4648-a268-fd908df4279c",
     "showTitle": false,
     "tableResultSettingsMap": {},
     "title": ""
    }
   },
   "source": [
    "Let's deploy the `meta-llama-3-1-3b-instruct` model which we'll use in our dspy program. The model will be hosted on a [Databricks Foundational Model Serving Endpoint](https://docs.databricks.com/en/machine-learning/foundation-models/index.html). These endpoints can easily be enabled at a workspace level and are pay-per-token, making them a cheap and powerful option for hosting open source LLMs and embedding models. You can easily swap out `meta-llama-3-1-3b-instruct` for [other providers or local models](https://github.com/stanfordnlp/dspy/blob/main/examples/migration.ipynb) via the `dspy.LM` command, as shown below."
   ]
  },
  {
   "cell_type": "code",
   "execution_count": 0,
   "metadata": {
    "application/vnd.databricks.v1+cell": {
     "cellMetadata": {},
     "inputWidgets": {},
     "nuid": "b9032a2b-49ef-44da-a674-e384fec658f0",
     "showTitle": false,
     "tableResultSettingsMap": {},
     "title": ""
    }
   },
   "outputs": [],
   "source": []
  }
 ],
 "metadata": {
  "application/vnd.databricks.v1+notebook": {
   "computePreferences": null,
   "dashboards": [],
   "environmentMetadata": {
    "base_environment": "",
    "environment_version": "2"
   },
   "language": "python",
   "notebookMetadata": {
    "pythonIndentUnit": 2
   },
   "notebookName": "01_deploy_models",
   "widgets": {}
  },
  "language_info": {
   "name": "python"
  }
 },
 "nbformat": 4,
 "nbformat_minor": 0
}
