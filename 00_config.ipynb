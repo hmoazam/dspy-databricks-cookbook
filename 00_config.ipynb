{
 "cells": [
  {
   "cell_type": "markdown",
   "metadata": {
    "application/vnd.databricks.v1+cell": {
     "cellMetadata": {},
     "inputWidgets": {},
     "nuid": "971eef5e-8f7a-4bf8-b254-9b0b4d62e330",
     "showTitle": false,
     "tableResultSettingsMap": {},
     "title": ""
    }
   },
   "source": [
    "# Global configuration\n",
    "\n",
    "This notebook is meant to be changed once.\n",
    "\n",
    "At a high-level it defines the Unity Catalog locations where the agent, and associated resources, will be stored. Ideally you shouldn't have to change the values in this notebook once you've started building your agent."
   ]
  },
  {
   "cell_type": "code",
   "execution_count": 0,
   "metadata": {
    "application/vnd.databricks.v1+cell": {
     "cellMetadata": {},
     "inputWidgets": {},
     "nuid": "0a0539c8-9803-4442-81d5-dddc3d8c8292",
     "showTitle": false,
     "tableResultSettingsMap": {},
     "title": ""
    }
   },
   "outputs": [],
   "source": [
    "user_email = spark.sql(\"SELECT current_user() as username\").collect()[0].username\n",
    "user_name = user_email.split(\"@\")[0].replace(\".\", \"\").lower()[:35]"
   ]
  },
  {
   "cell_type": "code",
   "execution_count": 0,
   "metadata": {
    "application/vnd.databricks.v1+cell": {
     "cellMetadata": {},
     "inputWidgets": {},
     "nuid": "07cb6628-8dbe-4455-807f-8119e2a54b5f",
     "showTitle": false,
     "tableResultSettingsMap": {},
     "title": ""
    }
   },
   "outputs": [],
   "source": [
    "# The name of the Agent.  This is used to name the agent's UC model and prepended to the output Delta Tables + Vector Indexes\n",
    "AGENT_NAME = \"hanna_cavu_agent_01\" # use user name + something\n",
    "\n",
    "# UC Catalog & Schema where outputs tables/indexes are saved\n",
    "# By default, will use the current user name to create a unique UC catalog/schema & vector search endpoint\n",
    "# If this catalog/schema does not exist, you need create catalog/schema permissions.\n",
    "UC_CATALOG = f\"{user_name}_catalog\" # replace with CAVU catalog name\n",
    "UC_SCHEMA = f\"cookbook\" # replace with CAVU schema\n",
    "\n",
    "## UC Model name where the Agent's model is logged\n",
    "UC_MODEL_NAME = f\"{UC_CATALOG}.{UC_SCHEMA}.{AGENT_NAME}\"\n",
    "\n",
    "## Vector search endpoint name\n",
    "VECTOR_SEARCH_ENDPOINT_NAME = \"one-env-shared-endpoint-5\"\n",
    "\n",
    "## Embedding model endpoint name\n",
    "EMBEDDING_MODEL_NAME = \"bge_large_hanna_moazam\"\n",
    "\n",
    "## Chat model endpoint name\n",
    "CHAT_MODEL_NAME = \"databricks/neurips_llama_v3_2_3b_provisioned_throughput\""
   ]
  }
 ],
 "metadata": {
  "application/vnd.databricks.v1+notebook": {
   "computePreferences": null,
   "dashboards": [],
   "environmentMetadata": {
    "base_environment": "",
    "environment_version": "2"
   },
   "language": "python",
   "notebookMetadata": {
    "pythonIndentUnit": 2
   },
   "notebookName": "00_config",
   "widgets": {}
  },
  "language_info": {
   "name": "python"
  }
 },
 "nbformat": 4,
 "nbformat_minor": 0
}
